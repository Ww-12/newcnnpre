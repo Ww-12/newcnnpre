{
 "cells": [
  {
   "cell_type": "markdown",
   "id": "00410fcb-6804-4751-88e6-f92d63be7061",
   "metadata": {},
   "source": []
  },
  {
   "cell_type": "code",
   "execution_count": null,
   "id": "09289b8a-892b-4267-9561-5f2672bf1f1a",
   "metadata": {},
   "outputs": [],
   "source": [
    "!pip install umap-learn\n",
    "!pip install hdbscan"
   ]
  },
  {
   "cell_type": "code",
   "execution_count": null,
   "id": "a8667bb5-5f26-405f-b4fa-40f0a9fdba6a",
   "metadata": {},
   "outputs": [],
   "source": [
    "# !apt-get update"
   ]
  },
  {
   "cell_type": "code",
   "execution_count": null,
   "id": "81b98377-e0d3-4a4f-b192-35eb7890cd08",
   "metadata": {},
   "outputs": [],
   "source": [
    "!apt-get install texlive texlive-xetex texlive-latex-extra pandoc"
   ]
  },
  {
   "cell_type": "code",
   "execution_count": null,
   "id": "aae89377-0c51-47ab-aa36-63b2f22e834b",
   "metadata": {},
   "outputs": [],
   "source": [
    "import sklearn\n",
    "from sklearn.cluster import KMeans\n",
    "import os\n",
    "import sys\n",
    "import matplotlib.pyplot as plt\n",
    "import cv2\n",
    "import numpy as np\n",
    "import pandas as pd\n",
    "import tensorflow as tf\n",
    "from PIL import Image as im\n",
    "from yellowbrick.cluster import KElbowVisualizer\n",
    "from sklearn.cluster import AgglomerativeClustering\n",
    "from sklearn.metrics import confusion_matrix, ConfusionMatrixDisplay\n",
    "from sklearn.metrics import adjusted_rand_score, adjusted_mutual_info_score\n",
    "from sklearn import metrics\n",
    "from sklearn.preprocessing import OneHotEncoder\n",
    "import umap.umap_ as umap\n",
    "import hdbscan\n",
    "from sklearn.cluster import AgglomerativeClustering"
   ]
  },
  {
   "cell_type": "code",
   "execution_count": null,
   "id": "1f8e3d13-1b4c-4c4b-8265-230ec6bc8e21",
   "metadata": {},
   "outputs": [],
   "source": [
    "def print_metrics(predicts):\n",
    "  print(\"Rand Score: \",adjusted_rand_score(packet['type'], predicts))\n",
    "  print(\"Mutial Info Score: \",adjusted_mutual_info_score(packet['type'], predicts))\n",
    "  print(\"Homogeneity: \",metrics.homogeneity_score(packet['type'], predicts))\n",
    "  print(\"Completenetss: \",metrics.completeness_score(packet['type'], predicts))\n",
    "  print(\"V_Measure(beta=0.1): \",metrics.v_measure_score(packet['type'], predicts,beta=0.1))\n",
    "  print(\"V_Measure(beta=0.2): \",metrics.v_measure_score(packet['type'], predicts,beta=0.2))\n",
    "  print(\"V_Measure(beta=0.5): \",metrics.v_measure_score(packet['type'], predicts,beta=0.4))\n",
    "  print(\"V_Measure: \",metrics.v_measure_score(packet['type'], predicts))\n",
    "  print(\"\\n\")"
   ]
  },
  {
   "cell_type": "code",
   "execution_count": null,
   "id": "c427a95b-24a2-40b7-ae6f-7d77b1e3ec28",
   "metadata": {},
   "outputs": [],
   "source": [
    "def draw_newconfmatrix(predicts):\n",
    "  df_confusion = pd.crosstab(packet['type'], predicts, rownames=['Actual'], colnames=['Predicted'])\n",
    "  # df_confusion\n",
    "  plt.matshow(df_confusion, cmap='Blues') # imshow\n",
    "  plt.title(\"Test\")\n",
    "  plt.colorbar()\n",
    "  tick_marks = np.arange(len(df_confusion.columns))\n",
    "  ytick_marks = np.arange(len(df_confusion.index))\n",
    "  plt.xticks(tick_marks, df_confusion.columns)\n",
    "  plt.yticks(ytick_marks, df_confusion.index)\n",
    "  # plt.tight_layout()\n",
    "  plt.ylabel(df_confusion.index.name)\n",
    "  plt.xlabel(df_confusion.columns.name)"
   ]
  },
  {
   "cell_type": "code",
   "execution_count": null,
   "id": "9c423f76-c844-448c-9d51-c0f10c314a08",
   "metadata": {},
   "outputs": [],
   "source": [
    "def draw_confmatrix(predicts):\n",
    "  \"\"\"Draw Confusion Matrix\"\"\"\n",
    "  cm = confusion_matrix(packet['type'], predicts.astype(str))\n",
    "  ConfusionMatrixDisplay(cm).plot()"
   ]
  },
  {
   "cell_type": "code",
   "execution_count": null,
   "id": "503b0d7f-3f2e-44d4-b2ee-f4b1ad01f91a",
   "metadata": {},
   "outputs": [],
   "source": [
    "# Finding best K for clustering with Elbow Method\n",
    "def bestkm(featuresvectore):\n",
    "  fig, ax = plt.subplots()\n",
    "\n",
    "  visualizer = KElbowVisualizer(KMeans(), k=(1,11),ax=ax)\n",
    "  visualizer.fit(featuresvectore)\n",
    "\n",
    "  ax.set_xticks(range(1,11))\n",
    "  visualizer.show()\n",
    "  plt.show()\n",
    "  print(f'Elbow Value is {visualizer.elbow_value_}')\n",
    "\n",
    "  # Clustering\n",
    "  kmeans = AgglomerativeClustering(n_clusters = visualizer.elbow_value_)\n",
    "  kmeans.fit(featuresvectore)\n",
    "  return kmeans.labels_"
   ]
  },
  {
   "cell_type": "code",
   "execution_count": null,
   "id": "ff70db0f-3318-479d-8990-da7ae6da7d21",
   "metadata": {},
   "outputs": [],
   "source": [
    "n = 5000 # no. of packets, we have to update this number acording to dataset size."
   ]
  },
  {
   "cell_type": "code",
   "execution_count": null,
   "id": "c368424c-e391-4952-a41f-609ba91bff57",
   "metadata": {},
   "outputs": [],
   "source": [
    "data = pd.read_csv('GSM5000-hex.csv', dtype=str) # dataset name.\n",
    "\n",
    "mtypes = data['type'].values\n",
    "direction = data['direction'].values\n",
    "bin = data['Full'].values\n",
    "\n",
    "bin=bin[:n]\n",
    "direction=direction[:n]\n",
    "mtypes=mtypes[:n]"
   ]
  },
  {
   "cell_type": "code",
   "execution_count": null,
   "id": "5f590e1d-30cb-49a1-9db0-54a04d4093cc",
   "metadata": {},
   "outputs": [],
   "source": [
    "data['type'].value_counts() # no. of packets per class in dataset."
   ]
  },
  {
   "cell_type": "code",
   "execution_count": null,
   "id": "39766bf6-8c49-433b-8d27-24e820d4f794",
   "metadata": {},
   "outputs": [],
   "source": [
    "packet = {\n",
    "    'bin' : [],\n",
    "    'extractedfeature' : [],\n",
    "    'length' : np.zeros(n),\n",
    "    'lengroup' : [],\n",
    "    'direction' : [],\n",
    "    'type' : [],\n",
    "    }"
   ]
  },
  {
   "cell_type": "code",
   "execution_count": null,
   "id": "0d30cb67-dd63-41a3-8311-766e9adc1ced",
   "metadata": {},
   "outputs": [],
   "source": [
    "# calculating length of each packet.\n",
    "for l in range(n):\n",
    "  packet['length'][l]=len(bin[l])"
   ]
  },
  {
   "cell_type": "code",
   "execution_count": null,
   "id": "3ffa58a1-407a-4155-b974-78d19de85a9f",
   "metadata": {},
   "outputs": [],
   "source": [
    "packet[\"type\"]=mtypes"
   ]
  },
  {
   "cell_type": "code",
   "execution_count": null,
   "id": "1991cbb4-2c8f-48c2-989f-bfc1ac19ea18",
   "metadata": {},
   "outputs": [],
   "source": [
    "# cluster packets to 4 clusters based on length of each packet.\n",
    "kmeans = KMeans(n_clusters=4, random_state=0).fit(packet['length'].reshape(-1,1))\n",
    "packet['lengroup'] = kmeans.labels_\n",
    "# you can see the labels with:\n",
    "# print(packet['length'])\n",
    "# print(packet['lengroup'])"
   ]
  },
  {
   "cell_type": "code",
   "execution_count": null,
   "id": "134fffaa-7e95-4721-b68a-0f6847e6ec87",
   "metadata": {},
   "outputs": [],
   "source": [
    "# encoding direction to one hot encoding\n",
    "ohe = OneHotEncoder()\n",
    "transformed = ohe.fit_transform(direction.reshape(-1, 1))\n",
    "packet['direction']=transformed.toarray()"
   ]
  },
  {
   "cell_type": "code",
   "execution_count": null,
   "id": "fe3fa2dc-351c-40c7-891f-5dfd2e7b4d7d",
   "metadata": {},
   "outputs": [],
   "source": [
    "# encoding length groups to one hot encoding\n",
    "ohe = OneHotEncoder()\n",
    "transformed = ohe.fit_transform(packet['lengroup'].reshape(-1,1))\n",
    "packet['lengroup']=transformed.toarray()"
   ]
  },
  {
   "cell_type": "code",
   "execution_count": null,
   "id": "ce678b98-033e-433d-beb8-148004c123eb",
   "metadata": {},
   "outputs": [],
   "source": [
    "listofbins=[]\n",
    "lens=[]\n",
    "maxlen=int(max(packet['length']))\n",
    "for i in range(bin.shape[0]):\n",
    "  # print(i)\n",
    "  if (packet['length'][i]) < maxlen:\n",
    "    bin[i]=list(bin[i])\n",
    "    bin[i] = bin[i] + [0] * max(0, maxlen - len(bin[i]))\n",
    "  # print(len(bin[i]))\n",
    "  listofbins.append(list(bin[i]))\n",
    "  # lens.append(len(list(bin[i])))\n",
    "# print(lens)\n",
    "# print(max(lens))\n",
    "\n",
    "    # print(len(j))\n",
    "  # print(list(bin[i]))\n",
    "packet['bin'] = np.array(listofbins,dtype=np.int32)"
   ]
  },
  {
   "cell_type": "code",
   "execution_count": null,
   "id": "496abba6-43f5-40f6-901d-1bf9a28160df",
   "metadata": {},
   "outputs": [],
   "source": [
    "# verify shape of each packet.\n",
    "print(packet['direction'].shape)\n",
    "print(packet['type'].shape)\n",
    "print(packet['bin'].shape)\n",
    "print(packet['length'].shape)\n",
    "print(packet['lengroup'].shape)"
   ]
  },
  {
   "cell_type": "code",
   "execution_count": null,
   "id": "22401df2-2c33-4241-b006-3e603c47b27a",
   "metadata": {},
   "outputs": [],
   "source": [
    "# apply transfer learning by using Resnet50 as pretrained model\n",
    "MyModel = tf.keras.models.Sequential()\n",
    "MyModel.add(tf.keras.applications.ResNet50(\n",
    "    include_top = False, weights='imagenet', pooling='avg',\n",
    "))"
   ]
  },
  {
   "cell_type": "code",
   "execution_count": null,
   "id": "bf7d5cd6-c8c4-4462-91a6-71902cccb946",
   "metadata": {},
   "outputs": [],
   "source": [
    "# freezing weights for 1st layer\n",
    "MyModel.layers[0].trainable = False"
   ]
  },
  {
   "cell_type": "code",
   "execution_count": null,
   "id": "7ce50a02-12e4-4a37-bf3f-3e4b1c171784",
   "metadata": {},
   "outputs": [],
   "source": [
    "# resize images to 224 x 224\n",
    "img = []\n",
    "for g in range(len(packet['bin'])):\n",
    "  img.append(cv2.resize(packet['bin'][g].astype('uint8'), (224, 224)))"
   ]
  },
  {
   "cell_type": "code",
   "execution_count": null,
   "id": "0b665762-cf8a-4600-8fe9-e5d157acc157",
   "metadata": {},
   "outputs": [],
   "source": [
    "print(len(img)) # (n)\n",
    "print(img[0].shape) # 224 ,224"
   ]
  },
  {
   "cell_type": "code",
   "execution_count": null,
   "id": "a4127fe3-b509-4276-88f2-f1a5487315a0",
   "metadata": {},
   "outputs": [],
   "source": [
    "for i in range(len(img)):\n",
    "  img[i] = img[i].reshape(224,224,1)"
   ]
  },
  {
   "cell_type": "code",
   "execution_count": null,
   "id": "20387a9a-8214-4a5f-a134-68744d9a321a",
   "metadata": {},
   "outputs": [],
   "source": [
    "# verify image size\n",
    "print(img[0].shape) # (224, 224, 1)\n",
    "print(len(img)) # n"
   ]
  },
  {
   "cell_type": "code",
   "execution_count": null,
   "id": "4f94fa16-7faa-4620-bfe3-9dff4fd00ad8",
   "metadata": {},
   "outputs": [],
   "source": [
    "# convert Grayscale images to RGB\n",
    "color_img =[]\n",
    "for i in range(len(img)):\n",
    "  color_img.append(cv2.cvtColor(img[i],cv2.COLOR_GRAY2RGB))"
   ]
  },
  {
   "cell_type": "code",
   "execution_count": null,
   "id": "743a968a-0750-4a17-9ab0-aa148226f28e",
   "metadata": {},
   "outputs": [],
   "source": [
    "len(color_img) # (n)"
   ]
  },
  {
   "cell_type": "code",
   "execution_count": null,
   "id": "0f6320a4-6679-4b57-9a33-aa735cca2015",
   "metadata": {},
   "outputs": [],
   "source": [
    "for i in range(len(color_img)):\n",
    "  color_img[i] = tf.keras.applications.resnet50.preprocess_input(color_img[i])"
   ]
  },
  {
   "cell_type": "code",
   "execution_count": null,
   "id": "88844a24-37d6-4f8b-8539-65c6cebc27f1",
   "metadata": {},
   "outputs": [],
   "source": [
    "color_img_expanded = []\n",
    "for i in range(len(color_img)):\n",
    "  color_img_expanded.append(np.expand_dims(color_img[i], 0))"
   ]
  },
  {
   "cell_type": "code",
   "execution_count": null,
   "id": "05048156-612c-43be-a98a-fe70072c8e52",
   "metadata": {},
   "outputs": [],
   "source": [
    "# verify images and sizes\n",
    "print(len(color_img_expanded)) # n 1275\n",
    "print(color_img_expanded[0].shape) # (1, 224, 224, 3)"
   ]
  },
  {
   "cell_type": "code",
   "execution_count": null,
   "id": "11a83e74-24e9-49de-880f-3c4f7ea382fb",
   "metadata": {},
   "outputs": [],
   "source": [
    "for i in range(len(color_img_expanded)):\n",
    "  # print(f'{i+1}/{n}')\n",
    "  extractedFeatures = MyModel.predict(color_img_expanded[i])\n",
    "  extractedFeatures = np.array(extractedFeatures)\n",
    "  packet[\"extractedfeature\"].append(extractedFeatures.flatten())\n",
    "packet['extractedfeature'] = np.array(packet['extractedfeature'], dtype = 'float64')"
   ]
  },
  {
   "cell_type": "code",
   "execution_count": null,
   "id": "f4748211-740b-4b27-bdbd-d34fe3667f0e",
   "metadata": {},
   "outputs": [],
   "source": [
    "print(packet['extractedfeature'].shape)"
   ]
  },
  {
   "cell_type": "code",
   "execution_count": null,
   "id": "3d443a8b-1024-4744-ae9d-32139862bc83",
   "metadata": {},
   "outputs": [],
   "source": [
    "cnn_umap = umap.UMAP(\n",
    "    n_neighbors=20,\n",
    "    min_dist=0.0,\n",
    "    n_components=10,\n",
    "    random_state=42,\n",
    ").fit_transform(packet['extractedfeature'])"
   ]
  },
  {
   "cell_type": "code",
   "execution_count": null,
   "id": "09b4d947-f067-4d44-b68c-a92bb88e71bb",
   "metadata": {},
   "outputs": [],
   "source": [
    "cnn_d = np.append(packet['extractedfeature'],packet['direction'],axis=1)\n",
    "cnn_dl = np.append(cnn_d,packet['lengroup'],axis=1)\n",
    "cnn_umap_d = np.append(cnn_umap,packet['direction'],axis=1)\n",
    "cnn_umap_dl = np.append(cnn_umap_d,packet['lengroup'],axis=1)\n",
    "\n",
    "print(packet['extractedfeature'].shape)\n",
    "print(cnn_d.shape)\n",
    "print(cnn_dl.shape)\n",
    "print(cnn_umap.shape)\n",
    "print(cnn_umap_d.shape)\n",
    "print(cnn_umap_dl.shape)"
   ]
  },
  {
   "cell_type": "code",
   "execution_count": null,
   "id": "9ba4df3b-2966-4a2a-90b0-58e29b94f07d",
   "metadata": {},
   "outputs": [],
   "source": [
    "km_cnn_umap_dl = bestkm(cnn_umap_dl)"
   ]
  },
  {
   "cell_type": "code",
   "execution_count": null,
   "id": "8998b2f5-6ae6-48a4-a0ff-424220c520ff",
   "metadata": {},
   "outputs": [],
   "source": [
    "min_cluster_size = int(n/100)#n/100，意思是要求每个簇至少有总样本量的 1%，避免出现太小的簇。\n",
    "print(min_cluster_size)\n",
    "min_samples = 10#每个点至少需要10个邻居点来被认为是核心点，值越大，聚类结果越“紧”，对噪声更敏感。\n",
    "hd_cnn_umap_dl = hdbscan.HDBSCAN(min_cluster_size,min_samples).fit_predict(cnn_umap_dl)"
   ]
  },
  {
   "cell_type": "code",
   "execution_count": null,
   "id": "31bc613e-4372-49f8-909d-4dddcef6d4f7",
   "metadata": {},
   "outputs": [],
   "source": [
    "print(\"HDBSCAN CNN-UMAP-Direction-Length\")\n",
    "print(str(len(set(hd_cnn_umap_dl))))\n",
    "print_metrics(hd_cnn_umap_dl)"
   ]
  },
  {
   "cell_type": "code",
   "execution_count": null,
   "id": "1d3a2770-34fb-46ce-ba23-89de7795bbe2",
   "metadata": {},
   "outputs": [],
   "source": [
    "print(\"HDBSCAN CNN-UMAP-Direction-Length\")\n",
    "draw_newconfmatrix(hd_cnn_umap_dl)"
   ]
  },
  {
   "cell_type": "code",
   "execution_count": null,
   "id": "f664b9d1-d994-4130-b4bd-494e11aaccde",
   "metadata": {},
   "outputs": [],
   "source": [
    "from google.colab import drive\n",
    "drive.mount('/content/gdrive')\n",
    "\n",
    "# Go to the directory where your file is\n",
    "%cd gdrive/MyDrive/Colab\\ Notebooks\n",
    "# Verify that now you see your notebooks\n",
    "!ls"
   ]
  },
  {
   "cell_type": "code",
   "execution_count": null,
   "id": "3afd216d-df77-4f2c-996d-b991ba829887",
   "metadata": {},
   "outputs": [],
   "source": [
    "# Convert\n",
    "!jupyter nbconvert --to pdf newcnnpre.ipynb"
   ]
  }
 ],
 "metadata": {
  "kernelspec": {
   "display_name": "Python 3 (ipykernel)",
   "language": "python",
   "name": "python3"
  },
  "language_info": {
   "codemirror_mode": {
    "name": "ipython",
    "version": 3
   },
   "file_extension": ".py",
   "mimetype": "text/x-python",
   "name": "python",
   "nbconvert_exporter": "python",
   "pygments_lexer": "ipython3",
   "version": "3.12.7"
  }
 },
 "nbformat": 4,
 "nbformat_minor": 5
}
